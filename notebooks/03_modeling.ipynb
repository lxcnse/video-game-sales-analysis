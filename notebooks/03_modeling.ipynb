{
  "cells": [
    {
      "cell_type": "code",
      "execution_count": 5,
      "metadata": {
        "id": "RVMJ9ay9JE8N"
      },
      "outputs": [],
      "source": [
        "import numpy as np\n",
        "import pandas as pd\n",
        "import matplotlib.pyplot as plt\n",
        "\n",
        "from sklearn.model_selection import train_test_split\n",
        "from sklearn.linear_model import LinearRegression\n",
        "from sklearn.ensemble import RandomForestRegressor"
      ]
    },
    {
      "cell_type": "code",
      "execution_count": 6,
      "metadata": {
        "id": "qT1A4_RDKhrO"
      },
      "outputs": [],
      "source": [
        "df = pd.read_csv('../data/cleaned_data.csv')"
      ]
    },
    {
      "cell_type": "code",
      "execution_count": 7,
      "metadata": {
        "colab": {
          "base_uri": "https://localhost:8080/"
        },
        "id": "jkjf0ksKKmsM",
        "outputId": "44243f22-9664-4477-c4f1-e063dab17411"
      },
      "outputs": [
        {
          "name": "stdout",
          "output_type": "stream",
          "text": [
            "<class 'pandas.core.frame.DataFrame'>\n",
            "RangeIndex: 16412 entries, 0 to 16411\n",
            "Data columns (total 17 columns):\n",
            " #   Column            Non-Null Count  Dtype  \n",
            "---  ------            --------------  -----  \n",
            " 0   Name              16412 non-null  object \n",
            " 1   Rank              16412 non-null  int64  \n",
            " 2   Platform          16412 non-null  object \n",
            " 3   Year              16412 non-null  int64  \n",
            " 4   Genre             16412 non-null  object \n",
            " 5   Publisher         16412 non-null  object \n",
            " 6   NA_Sales          16412 non-null  float64\n",
            " 7   EU_Sales          16412 non-null  float64\n",
            " 8   JP_Sales          16412 non-null  float64\n",
            " 9   Other_Sales       16412 non-null  float64\n",
            " 10  Global_Sales      16412 non-null  float64\n",
            " 11  NA_Sales_log      16412 non-null  float64\n",
            " 12  EU_Sales_log      16412 non-null  float64\n",
            " 13  JP_Sales_log      16412 non-null  float64\n",
            " 14  Other_Sales_log   16412 non-null  float64\n",
            " 15  Global_Sales_log  16412 non-null  float64\n",
            " 16  Is_Japan_Hit      16412 non-null  int64  \n",
            "dtypes: float64(10), int64(3), object(4)\n",
            "memory usage: 2.1+ MB\n"
          ]
        }
      ],
      "source": [
        "df.info()"
      ]
    },
    {
      "cell_type": "code",
      "execution_count": 8,
      "metadata": {
        "colab": {
          "base_uri": "https://localhost:8080/"
        },
        "id": "iAj49NSPKpk4",
        "outputId": "710f60c8-3dc9-4e46-997d-8d14e7eb52c0"
      },
      "outputs": [
        {
          "data": {
            "text/plain": [
              "Index(['Name', 'Rank', 'Platform', 'Year', 'Genre', 'Publisher', 'NA_Sales',\n",
              "       'EU_Sales', 'JP_Sales', 'Other_Sales', 'Global_Sales', 'NA_Sales_log',\n",
              "       'EU_Sales_log', 'JP_Sales_log', 'Other_Sales_log', 'Global_Sales_log',\n",
              "       'Is_Japan_Hit'],\n",
              "      dtype='object')"
            ]
          },
          "execution_count": 8,
          "metadata": {},
          "output_type": "execute_result"
        }
      ],
      "source": [
        "df.columns"
      ]
    },
    {
      "cell_type": "code",
      "execution_count": 9,
      "metadata": {
        "id": "BVKsbiRBKxf5"
      },
      "outputs": [],
      "source": [
        "df = df.drop(['Rank', 'Name', 'Global_Sales', 'NA_Sales_log','EU_Sales_log', 'JP_Sales_log', 'Other_Sales_log', 'Global_Sales_log'], axis=1)"
      ]
    },
    {
      "cell_type": "code",
      "execution_count": 10,
      "metadata": {
        "colab": {
          "base_uri": "https://localhost:8080/"
        },
        "id": "dHE7d6z-LkSX",
        "outputId": "94c86124-f112-485d-a300-c5fa52bc2bab"
      },
      "outputs": [
        {
          "data": {
            "text/plain": [
              "Index(['Platform', 'Year', 'Genre', 'Publisher', 'NA_Sales', 'EU_Sales',\n",
              "       'JP_Sales', 'Other_Sales', 'Is_Japan_Hit'],\n",
              "      dtype='object')"
            ]
          },
          "execution_count": 10,
          "metadata": {},
          "output_type": "execute_result"
        }
      ],
      "source": [
        "df.columns"
      ]
    },
    {
      "cell_type": "code",
      "execution_count": 11,
      "metadata": {
        "colab": {
          "base_uri": "https://localhost:8080/",
          "height": 238
        },
        "id": "j53qanf2K6V7",
        "outputId": "3697e49a-8460-4e10-dc01-f5d80a6a82bf"
      },
      "outputs": [
        {
          "data": {
            "text/html": [
              "<div>\n",
              "<style scoped>\n",
              "    .dataframe tbody tr th:only-of-type {\n",
              "        vertical-align: middle;\n",
              "    }\n",
              "\n",
              "    .dataframe tbody tr th {\n",
              "        vertical-align: top;\n",
              "    }\n",
              "\n",
              "    .dataframe thead th {\n",
              "        text-align: right;\n",
              "    }\n",
              "</style>\n",
              "<table border=\"1\" class=\"dataframe\">\n",
              "  <thead>\n",
              "    <tr style=\"text-align: right;\">\n",
              "      <th></th>\n",
              "      <th>Year</th>\n",
              "      <th>NA_Sales</th>\n",
              "      <th>EU_Sales</th>\n",
              "      <th>JP_Sales</th>\n",
              "      <th>Other_Sales</th>\n",
              "      <th>Is_Japan_Hit</th>\n",
              "    </tr>\n",
              "  </thead>\n",
              "  <tbody>\n",
              "    <tr>\n",
              "      <th>Year</th>\n",
              "      <td>1.000000</td>\n",
              "      <td>-0.091601</td>\n",
              "      <td>0.006077</td>\n",
              "      <td>-0.169151</td>\n",
              "      <td>0.041011</td>\n",
              "      <td>-0.144305</td>\n",
              "    </tr>\n",
              "    <tr>\n",
              "      <th>NA_Sales</th>\n",
              "      <td>-0.091601</td>\n",
              "      <td>1.000000</td>\n",
              "      <td>0.767902</td>\n",
              "      <td>0.450400</td>\n",
              "      <td>0.634742</td>\n",
              "      <td>0.315188</td>\n",
              "    </tr>\n",
              "    <tr>\n",
              "      <th>EU_Sales</th>\n",
              "      <td>0.006077</td>\n",
              "      <td>0.767902</td>\n",
              "      <td>1.000000</td>\n",
              "      <td>0.435749</td>\n",
              "      <td>0.726268</td>\n",
              "      <td>0.301427</td>\n",
              "    </tr>\n",
              "    <tr>\n",
              "      <th>JP_Sales</th>\n",
              "      <td>-0.169151</td>\n",
              "      <td>0.450400</td>\n",
              "      <td>0.435749</td>\n",
              "      <td>1.000000</td>\n",
              "      <td>0.290211</td>\n",
              "      <td>0.768387</td>\n",
              "    </tr>\n",
              "    <tr>\n",
              "      <th>Other_Sales</th>\n",
              "      <td>0.041011</td>\n",
              "      <td>0.634742</td>\n",
              "      <td>0.726268</td>\n",
              "      <td>0.290211</td>\n",
              "      <td>1.000000</td>\n",
              "      <td>0.209415</td>\n",
              "    </tr>\n",
              "    <tr>\n",
              "      <th>Is_Japan_Hit</th>\n",
              "      <td>-0.144305</td>\n",
              "      <td>0.315188</td>\n",
              "      <td>0.301427</td>\n",
              "      <td>0.768387</td>\n",
              "      <td>0.209415</td>\n",
              "      <td>1.000000</td>\n",
              "    </tr>\n",
              "  </tbody>\n",
              "</table>\n",
              "</div>"
            ],
            "text/plain": [
              "                  Year  NA_Sales  EU_Sales  JP_Sales  Other_Sales  \\\n",
              "Year          1.000000 -0.091601  0.006077 -0.169151     0.041011   \n",
              "NA_Sales     -0.091601  1.000000  0.767902  0.450400     0.634742   \n",
              "EU_Sales      0.006077  0.767902  1.000000  0.435749     0.726268   \n",
              "JP_Sales     -0.169151  0.450400  0.435749  1.000000     0.290211   \n",
              "Other_Sales   0.041011  0.634742  0.726268  0.290211     1.000000   \n",
              "Is_Japan_Hit -0.144305  0.315188  0.301427  0.768387     0.209415   \n",
              "\n",
              "              Is_Japan_Hit  \n",
              "Year             -0.144305  \n",
              "NA_Sales          0.315188  \n",
              "EU_Sales          0.301427  \n",
              "JP_Sales          0.768387  \n",
              "Other_Sales       0.209415  \n",
              "Is_Japan_Hit      1.000000  "
            ]
          },
          "execution_count": 11,
          "metadata": {},
          "output_type": "execute_result"
        }
      ],
      "source": [
        "df.corr(numeric_only=True)"
      ]
    },
    {
      "cell_type": "code",
      "execution_count": null,
      "metadata": {
        "id": "anYLQ1cJK7c0"
      },
      "outputs": [],
      "source": []
    }
  ],
  "metadata": {
    "colab": {
      "provenance": []
    },
    "kernelspec": {
      "display_name": "env",
      "language": "python",
      "name": "python3"
    },
    "language_info": {
      "codemirror_mode": {
        "name": "ipython",
        "version": 3
      },
      "file_extension": ".py",
      "mimetype": "text/x-python",
      "name": "python",
      "nbconvert_exporter": "python",
      "pygments_lexer": "ipython3",
      "version": "3.13.1"
    }
  },
  "nbformat": 4,
  "nbformat_minor": 0
}
