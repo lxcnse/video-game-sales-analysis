{
  "nbformat": 4,
  "nbformat_minor": 0,
  "metadata": {
    "colab": {
      "provenance": []
    },
    "kernelspec": {
      "name": "python3",
      "display_name": "Python 3"
    },
    "language_info": {
      "name": "python"
    }
  },
  "cells": [
    {
      "cell_type": "markdown",
      "source": [
        "# 🎮 Video Game Industry EDA\n",
        "\n",
        "This project aims to explore and analyze video game data to uncover key trends, patterns, and insights in the gaming industry. Using Exploratory Data Analysis (EDA) techniques, we will examine various aspects such as:\n",
        "\n",
        "- Global and regional sales performance\n",
        "- Popular genres and platforms over time\n",
        "- Trends in game releases by year and region\n",
        "\n",
        "The goal is to answer questions like:\n",
        "- Which genres are the most successful globally?\n",
        "- Do higher review scores correlate with higher sales?\n",
        "- How do regional preferences differ across markets?\n",
        "\n",
        "The analysis will help us better understand the factors that contribute to a game's success and how the video game industry has evolved over the years."
      ],
      "metadata": {
        "id": "i8ZklKCJDsDm"
      }
    },
    {
      "cell_type": "markdown",
      "source": [
        "## Setting up the environment"
      ],
      "metadata": {
        "id": "XBPVwz4KFBxR"
      }
    },
    {
      "cell_type": "code",
      "source": [
        "from pyspark.sql import SparkSession\n",
        "from pyspark.sql.functions import *\n",
        "from pyspark.sql.window import Window\n",
        "from pyspark.sql.types import *\n",
        "from pyspark.sql.types import NumericType\n",
        "\n",
        "spark = SparkSession.builder \\\n",
        "    .master(\"local[*]\") \\\n",
        "    .appName(\"Video Games Sales Analysis\") \\\n",
        "    .getOrCreate()"
      ],
      "metadata": {
        "id": "aCtnQOjeE_wq"
      },
      "execution_count": 1,
      "outputs": []
    },
    {
      "cell_type": "markdown",
      "source": [
        "## Loading the dataset\n",
        "\n",
        "### Dataset description\n",
        "**Source:** [kaggle - Video Game Sales](https://www.kaggle.com/datasets/anandshaw2001/video-game-sales)\n",
        "\n",
        "This dataset contains sales data for video games across platforms, genres and regions.\n",
        "\n",
        "**Sub-dataset information:**.\n",
        "- Number of rows: 16598\n",
        "- Number of columns: 11\n",
        "\n",
        "**Columns:**.\n",
        "\n",
        "- **Rank** - Ranking of total sales.\n",
        "- **Name** - Name of the game.\n",
        "- **Platform** - Platform on which the game was released (e.g. PC, PS4).\n",
        "- **Year** - Year the game was released\n",
        "- **Genre** - Genre of the game\n",
        "- **Publisher** - Publisher of the game\n",
        "- **NA_Sales** - Sales in North America (in millions).\n",
        "- **EU_Sales** - Sales in Europe (in millions)\n",
        "- **JP_Sales** - Sales in Japan (in millions)\n",
        "- **Other_Sales** - Sales in the rest of the world (in millions)\n",
        "- **Global_Sales** - Total sales worldwide (in millions)"
      ],
      "metadata": {
        "id": "r6PycEKvFOrN"
      }
    },
    {
      "cell_type": "code",
      "source": [
        "df = spark.read.csv('vgsales.csv', header=True, inferSchema=True)"
      ],
      "metadata": {
        "id": "FjAb3SZNFEus"
      },
      "execution_count": 2,
      "outputs": []
    },
    {
      "cell_type": "code",
      "source": [
        "df.printSchema()\n",
        "print('Number of rows:', df.count())\n",
        "print('First 10 rows: \\n')\n",
        "df.show(10)"
      ],
      "metadata": {
        "colab": {
          "base_uri": "https://localhost:8080/"
        },
        "id": "XmdtUxDiFzAT",
        "outputId": "5b6b95e1-9d47-4c9e-e323-ff86363efd22"
      },
      "execution_count": 3,
      "outputs": [
        {
          "output_type": "stream",
          "name": "stdout",
          "text": [
            "root\n",
            " |-- Rank: integer (nullable = true)\n",
            " |-- Name: string (nullable = true)\n",
            " |-- Platform: string (nullable = true)\n",
            " |-- Year: string (nullable = true)\n",
            " |-- Genre: string (nullable = true)\n",
            " |-- Publisher: string (nullable = true)\n",
            " |-- NA_Sales: double (nullable = true)\n",
            " |-- EU_Sales: double (nullable = true)\n",
            " |-- JP_Sales: double (nullable = true)\n",
            " |-- Other_Sales: double (nullable = true)\n",
            " |-- Global_Sales: double (nullable = true)\n",
            "\n",
            "Number of rows: 16598\n",
            "First 10 rows: \n",
            "\n",
            "+----+--------------------+--------+----+------------+---------+--------+--------+--------+-----------+------------+\n",
            "|Rank|                Name|Platform|Year|       Genre|Publisher|NA_Sales|EU_Sales|JP_Sales|Other_Sales|Global_Sales|\n",
            "+----+--------------------+--------+----+------------+---------+--------+--------+--------+-----------+------------+\n",
            "|   1|          Wii Sports|     Wii|2006|      Sports| Nintendo|   41.49|   29.02|    3.77|       8.46|       82.74|\n",
            "|   2|   Super Mario Bros.|     NES|1985|    Platform| Nintendo|   29.08|    3.58|    6.81|       0.77|       40.24|\n",
            "|   3|      Mario Kart Wii|     Wii|2008|      Racing| Nintendo|   15.85|   12.88|    3.79|       3.31|       35.82|\n",
            "|   4|   Wii Sports Resort|     Wii|2009|      Sports| Nintendo|   15.75|   11.01|    3.28|       2.96|        33.0|\n",
            "|   5|Pokemon Red/Pokem...|      GB|1996|Role-Playing| Nintendo|   11.27|    8.89|   10.22|        1.0|       31.37|\n",
            "|   6|              Tetris|      GB|1989|      Puzzle| Nintendo|    23.2|    2.26|    4.22|       0.58|       30.26|\n",
            "|   7|New Super Mario B...|      DS|2006|    Platform| Nintendo|   11.38|    9.23|     6.5|        2.9|       30.01|\n",
            "|   8|            Wii Play|     Wii|2006|        Misc| Nintendo|   14.03|     9.2|    2.93|       2.85|       29.02|\n",
            "|   9|New Super Mario B...|     Wii|2009|    Platform| Nintendo|   14.59|    7.06|     4.7|       2.26|       28.62|\n",
            "|  10|           Duck Hunt|     NES|1984|     Shooter| Nintendo|   26.93|    0.63|    0.28|       0.47|       28.31|\n",
            "+----+--------------------+--------+----+------------+---------+--------+--------+--------+-----------+------------+\n",
            "only showing top 10 rows\n",
            "\n"
          ]
        }
      ]
    },
    {
      "cell_type": "code",
      "source": [
        "df = df.withColumn('Year', df.Year.cast('int'))"
      ],
      "metadata": {
        "id": "Za2AoPj-GJ-9"
      },
      "execution_count": 4,
      "outputs": []
    },
    {
      "cell_type": "code",
      "source": [
        "numeric_columns = [f.name for f in df.schema.fields if isinstance(f.dataType, NumericType)]\n",
        "\n",
        "df.select(numeric_columns).describe().show()"
      ],
      "metadata": {
        "colab": {
          "base_uri": "https://localhost:8080/"
        },
        "id": "QiKtvwpZHaqs",
        "outputId": "ba15ef0e-2ed3-44e1-b9fc-11c4d70ad7a3"
      },
      "execution_count": 5,
      "outputs": [
        {
          "output_type": "stream",
          "name": "stdout",
          "text": [
            "+-------+-----------------+------------------+-------------------+------------------+-------------------+--------------------+------------------+\n",
            "|summary|             Rank|              Year|           NA_Sales|          EU_Sales|           JP_Sales|         Other_Sales|      Global_Sales|\n",
            "+-------+-----------------+------------------+-------------------+------------------+-------------------+--------------------+------------------+\n",
            "|  count|            16598|             16327|              16598|             16598|              16598|               16598|             16598|\n",
            "|   mean|8300.605253645017|2006.4064433147546|0.26466742981084057|0.1466520062658483|0.07778166044101108|0.048063019640913515|  0.53744065550074|\n",
            "| stddev|  4791.8539328964| 5.828981114713253| 0.8166830292988798|0.5053512312869136| 0.3092906480822022| 0.18858840291271395|1.5550279355699066|\n",
            "|    min|                1|              1980|                0.0|               0.0|                0.0|                 0.0|              0.01|\n",
            "|    max|            16600|              2020|              41.49|             29.02|              10.22|               10.57|             82.74|\n",
            "+-------+-----------------+------------------+-------------------+------------------+-------------------+--------------------+------------------+\n",
            "\n"
          ]
        }
      ]
    },
    {
      "cell_type": "markdown",
      "source": [
        "## First observations\n",
        "\n",
        "### North American market dominates:\n",
        "\n",
        "- Highest average sales and highest peak values\n",
        "\n",
        "- This indicates that NA is the largest market for games\n",
        "\n",
        "### Europe also a significant market:\n",
        "\n",
        "- Second only to NA in terms of average and maximum sales\n",
        "\n",
        "### Japan's low share:\n",
        "\n",
        "- Despite Japan's importance in the history of video games, sales there are much lower - both average and maximum sales\n",
        "\n",
        "### High variation in popularity:\n",
        "\n",
        "- High standard deviation, especially in NA and globally, suggests that only a small number of games achieve huge sales successes, while most games sell at low levels"
      ],
      "metadata": {
        "id": "H6LmBkN9Hwqw"
      }
    },
    {
      "cell_type": "code",
      "source": [
        "df.groupBy('Year').count().sort('count').show()"
      ],
      "metadata": {
        "colab": {
          "base_uri": "https://localhost:8080/"
        },
        "id": "1FwycujwH14Y",
        "outputId": "5e3a909c-2dbf-47ed-ae48-93a6aeef8da9"
      },
      "execution_count": 6,
      "outputs": [
        {
          "output_type": "stream",
          "name": "stdout",
          "text": [
            "+----+-----+\n",
            "|Year|count|\n",
            "+----+-----+\n",
            "|2020|    1|\n",
            "|2017|    3|\n",
            "|1980|    9|\n",
            "|1985|   14|\n",
            "|1984|   14|\n",
            "|1988|   15|\n",
            "|1990|   16|\n",
            "|1987|   16|\n",
            "|1989|   17|\n",
            "|1983|   17|\n",
            "|1986|   21|\n",
            "|1982|   36|\n",
            "|1991|   41|\n",
            "|1992|   43|\n",
            "|1981|   46|\n",
            "|1993|   60|\n",
            "|1994|  121|\n",
            "|1995|  219|\n",
            "|1996|  263|\n",
            "|NULL|  271|\n",
            "+----+-----+\n",
            "only showing top 20 rows\n",
            "\n"
          ]
        }
      ]
    },
    {
      "cell_type": "markdown",
      "source": [
        "## Data Cleaning & Preprocessing"
      ],
      "metadata": {
        "id": "Fkoo5mQ0Luez"
      }
    },
    {
      "cell_type": "code",
      "source": [
        "df = df.na.replace(\"N/A\", None) # in our dataset the missing data is marked as a string, this is how the isNull function would skip and return 0\n",
        "missing_values = df.select([sum(col(c).isNull().cast('int')).alias(c) for c in df.columns])\n",
        "print('Number of missing values:\\n')\n",
        "missing_values.show()\n",
        "\n",
        "\n",
        "total_rows = df.count()\n",
        "missing_percent = missing_values.select([\n",
        "    round((col(c) / total_rows * 100), 2).alias(c)\n",
        "    for c in missing_values.columns\n",
        "])\n",
        "print('% of missing values:\\n')\n",
        "missing_percent.show()"
      ],
      "metadata": {
        "colab": {
          "base_uri": "https://localhost:8080/"
        },
        "id": "5BhsVhLeKPR6",
        "outputId": "ded9a53f-8e5c-4513-d2e2-dbca55150c71"
      },
      "execution_count": 7,
      "outputs": [
        {
          "output_type": "stream",
          "name": "stdout",
          "text": [
            "Number of missing values:\n",
            "\n",
            "+----+----+--------+----+-----+---------+--------+--------+--------+-----------+------------+\n",
            "|Rank|Name|Platform|Year|Genre|Publisher|NA_Sales|EU_Sales|JP_Sales|Other_Sales|Global_Sales|\n",
            "+----+----+--------+----+-----+---------+--------+--------+--------+-----------+------------+\n",
            "|   0|   0|       0| 271|    0|       58|       0|       0|       0|          0|           0|\n",
            "+----+----+--------+----+-----+---------+--------+--------+--------+-----------+------------+\n",
            "\n",
            "% of missing values:\n",
            "\n",
            "+----+----+--------+----+-----+---------+--------+--------+--------+-----------+------------+\n",
            "|Rank|Name|Platform|Year|Genre|Publisher|NA_Sales|EU_Sales|JP_Sales|Other_Sales|Global_Sales|\n",
            "+----+----+--------+----+-----+---------+--------+--------+--------+-----------+------------+\n",
            "| 0.0| 0.0|     0.0|1.63|  0.0|     0.35|     0.0|     0.0|     0.0|        0.0|         0.0|\n",
            "+----+----+--------+----+-----+---------+--------+--------+--------+-----------+------------+\n",
            "\n"
          ]
        }
      ]
    },
    {
      "cell_type": "code",
      "source": [
        "df.where(col('Rank').between(179,180)).show() # quick check"
      ],
      "metadata": {
        "colab": {
          "base_uri": "https://localhost:8080/"
        },
        "id": "iYUk0eKvMNXy",
        "outputId": "4b4603b5-9fc3-42fd-af91-775222e90197"
      },
      "execution_count": 8,
      "outputs": [
        {
          "output_type": "stream",
          "name": "stdout",
          "text": [
            "+----+---------------+--------+----+------+-----------------+--------+--------+--------+-----------+------------+\n",
            "|Rank|           Name|Platform|Year| Genre|        Publisher|NA_Sales|EU_Sales|JP_Sales|Other_Sales|Global_Sales|\n",
            "+----+---------------+--------+----+------+-----------------+--------+--------+--------+-----------+------------+\n",
            "| 179| Tomb Raider II|      PS|1997|Action|Eidos Interactive|     2.3|    2.46|     0.2|       0.28|        5.24|\n",
            "| 180|Madden NFL 2004|     PS2|NULL|Sports|  Electronic Arts|    4.26|    0.26|    0.01|       0.71|        5.23|\n",
            "+----+---------------+--------+----+------+-----------------+--------+--------+--------+-----------+------------+\n",
            "\n"
          ]
        }
      ]
    },
    {
      "cell_type": "markdown",
      "source": [
        "## checking duplicated rows"
      ],
      "metadata": {
        "id": "f3DpOmK_cFZJ"
      }
    },
    {
      "cell_type": "code",
      "source": [
        "duplicate_rows = df.groupBy(df.columns).count().filter(\"count > 1\")\n",
        "print(\"Number of duplicated rows:\", duplicate_rows.count())"
      ],
      "metadata": {
        "colab": {
          "base_uri": "https://localhost:8080/"
        },
        "id": "ZXR4jnELcBnZ",
        "outputId": "5540db68-b1c7-438f-d960-b3195eb51dcc"
      },
      "execution_count": 9,
      "outputs": [
        {
          "output_type": "stream",
          "name": "stdout",
          "text": [
            "Number of duplicated rows: 0\n"
          ]
        }
      ]
    },
    {
      "cell_type": "code",
      "source": [
        "df.show()"
      ],
      "metadata": {
        "colab": {
          "base_uri": "https://localhost:8080/"
        },
        "id": "OVasK7hVTimz",
        "outputId": "e53037cf-495a-40e4-c49a-2a4d46d0452d"
      },
      "execution_count": 10,
      "outputs": [
        {
          "output_type": "stream",
          "name": "stdout",
          "text": [
            "+----+--------------------+--------+----+------------+--------------------+--------+--------+--------+-----------+------------+\n",
            "|Rank|                Name|Platform|Year|       Genre|           Publisher|NA_Sales|EU_Sales|JP_Sales|Other_Sales|Global_Sales|\n",
            "+----+--------------------+--------+----+------------+--------------------+--------+--------+--------+-----------+------------+\n",
            "|   1|          Wii Sports|     Wii|2006|      Sports|            Nintendo|   41.49|   29.02|    3.77|       8.46|       82.74|\n",
            "|   2|   Super Mario Bros.|     NES|1985|    Platform|            Nintendo|   29.08|    3.58|    6.81|       0.77|       40.24|\n",
            "|   3|      Mario Kart Wii|     Wii|2008|      Racing|            Nintendo|   15.85|   12.88|    3.79|       3.31|       35.82|\n",
            "|   4|   Wii Sports Resort|     Wii|2009|      Sports|            Nintendo|   15.75|   11.01|    3.28|       2.96|        33.0|\n",
            "|   5|Pokemon Red/Pokem...|      GB|1996|Role-Playing|            Nintendo|   11.27|    8.89|   10.22|        1.0|       31.37|\n",
            "|   6|              Tetris|      GB|1989|      Puzzle|            Nintendo|    23.2|    2.26|    4.22|       0.58|       30.26|\n",
            "|   7|New Super Mario B...|      DS|2006|    Platform|            Nintendo|   11.38|    9.23|     6.5|        2.9|       30.01|\n",
            "|   8|            Wii Play|     Wii|2006|        Misc|            Nintendo|   14.03|     9.2|    2.93|       2.85|       29.02|\n",
            "|   9|New Super Mario B...|     Wii|2009|    Platform|            Nintendo|   14.59|    7.06|     4.7|       2.26|       28.62|\n",
            "|  10|           Duck Hunt|     NES|1984|     Shooter|            Nintendo|   26.93|    0.63|    0.28|       0.47|       28.31|\n",
            "|  11|          Nintendogs|      DS|2005|  Simulation|            Nintendo|    9.07|    11.0|    1.93|       2.75|       24.76|\n",
            "|  12|       Mario Kart DS|      DS|2005|      Racing|            Nintendo|    9.81|    7.57|    4.13|       1.92|       23.42|\n",
            "|  13|Pokemon Gold/Poke...|      GB|1999|Role-Playing|            Nintendo|     9.0|    6.18|     7.2|       0.71|        23.1|\n",
            "|  14|             Wii Fit|     Wii|2007|      Sports|            Nintendo|    8.94|    8.03|     3.6|       2.15|       22.72|\n",
            "|  15|        Wii Fit Plus|     Wii|2009|      Sports|            Nintendo|    9.09|    8.59|    2.53|       1.79|        22.0|\n",
            "|  16|  Kinect Adventures!|    X360|2010|        Misc|Microsoft Game St...|   14.97|    4.94|    0.24|       1.67|       21.82|\n",
            "|  17|  Grand Theft Auto V|     PS3|2013|      Action|Take-Two Interactive|    7.01|    9.27|    0.97|       4.14|        21.4|\n",
            "|  18|Grand Theft Auto:...|     PS2|2004|      Action|Take-Two Interactive|    9.43|     0.4|    0.41|      10.57|       20.81|\n",
            "|  19|   Super Mario World|    SNES|1990|    Platform|            Nintendo|   12.78|    3.75|    3.54|       0.55|       20.61|\n",
            "|  20|Brain Age: Train ...|      DS|2005|        Misc|            Nintendo|    4.75|    9.26|    4.16|       2.05|       20.22|\n",
            "+----+--------------------+--------+----+------------+--------------------+--------+--------+--------+-----------+------------+\n",
            "only showing top 20 rows\n",
            "\n"
          ]
        }
      ]
    },
    {
      "cell_type": "code",
      "source": [
        "df.where(col('Name') == 'Madden NFL 2004').show() # quick check"
      ],
      "metadata": {
        "colab": {
          "base_uri": "https://localhost:8080/"
        },
        "id": "JHlCMupyXZ8R",
        "outputId": "bf6ea92e-f24c-44fe-fac9-3e1dbf2b4986"
      },
      "execution_count": 11,
      "outputs": [
        {
          "output_type": "stream",
          "name": "stdout",
          "text": [
            "+----+---------------+--------+----+------+---------------+--------+--------+--------+-----------+------------+\n",
            "|Rank|           Name|Platform|Year| Genre|      Publisher|NA_Sales|EU_Sales|JP_Sales|Other_Sales|Global_Sales|\n",
            "+----+---------------+--------+----+------+---------------+--------+--------+--------+-----------+------------+\n",
            "| 180|Madden NFL 2004|     PS2|NULL|Sports|Electronic Arts|    4.26|    0.26|    0.01|       0.71|        5.23|\n",
            "|1883|Madden NFL 2004|      XB|2003|Sports|Electronic Arts|    1.02|    0.02|     0.0|       0.05|        1.09|\n",
            "|3898|Madden NFL 2004|      GC|2003|Sports|Electronic Arts|     0.4|     0.1|     0.0|       0.01|        0.51|\n",
            "|5714|Madden NFL 2004|     GBA|2003|Sports|Electronic Arts|    0.22|    0.08|     0.0|       0.01|        0.31|\n",
            "+----+---------------+--------+----+------+---------------+--------+--------+--------+-----------+------------+\n",
            "\n"
          ]
        }
      ]
    },
    {
      "cell_type": "code",
      "source": [
        "df.groupby('Name').agg(round(avg(col('Year'))).cast('int').alias('Avg_Year')).show(truncate=False)"
      ],
      "metadata": {
        "colab": {
          "base_uri": "https://localhost:8080/"
        },
        "id": "BI9Hv5APXzpc",
        "outputId": "47c01a8f-ee32-4813-9d8a-7c7916187dfb"
      },
      "execution_count": 12,
      "outputs": [
        {
          "output_type": "stream",
          "name": "stdout",
          "text": [
            "+-----------------------------------------+--------+\n",
            "|Name                                     |Avg_Year|\n",
            "+-----------------------------------------+--------+\n",
            "|The Elder Scrolls V: Skyrim              |2011    |\n",
            "|The Legend of Zelda: Oracle of Ages      |2001    |\n",
            "|Call of Duty Black Ops: Declassified     |2012    |\n",
            "|Joust                                    |1982    |\n",
            "|Legacy of Kain: Soul Reaver              |NULL    |\n",
            "|All-Star Baseball 2003                   |2002    |\n",
            "|J-League Soccer: Prime Goal              |1993    |\n",
            "|RIFT                                     |2011    |\n",
            "|Ninokuni: Shikkoku no Madoushi           |2010    |\n",
            "|Paws & Claws: Dogs & Cats Best Friends   |2007    |\n",
            "|Barbie: Jet, Set & Style!                |2011    |\n",
            "|Barnstorming                             |1981    |\n",
            "|Yu-Gi-Oh! GX: Tag Force 2                |2007    |\n",
            "|Sherlock Holmes: The Mystery of the Mummy|2009    |\n",
            "|ESPN X Games Skateboarding               |2001    |\n",
            "|Virtua Cop 2                             |1996    |\n",
            "|RalliSport Challenge 2                   |2004    |\n",
            "|That's So Raven: Psychic on the Scene    |2006    |\n",
            "|Naruto: Ninja Council 2 European Version |2005    |\n",
            "|Petz: Horse Club                         |2008    |\n",
            "+-----------------------------------------+--------+\n",
            "only showing top 20 rows\n",
            "\n"
          ]
        }
      ]
    },
    {
      "cell_type": "code",
      "source": [
        "df.where(col('Name') == 'Legacy of Kain: Soul Reaver').show() # quick check"
      ],
      "metadata": {
        "colab": {
          "base_uri": "https://localhost:8080/"
        },
        "id": "n79My8qYYSnE",
        "outputId": "9068544a-5017-4b09-d159-72f82ad36bf1"
      },
      "execution_count": 13,
      "outputs": [
        {
          "output_type": "stream",
          "name": "stdout",
          "text": [
            "+----+--------------------+--------+----+------+-----------------+--------+--------+--------+-----------+------------+\n",
            "|Rank|                Name|Platform|Year| Genre|        Publisher|NA_Sales|EU_Sales|JP_Sales|Other_Sales|Global_Sales|\n",
            "+----+--------------------+--------+----+------+-----------------+--------+--------+--------+-----------+------------+\n",
            "|1992|Legacy of Kain: S...|      PS|NULL|Action|Eidos Interactive|    0.58|     0.4|     0.0|       0.07|        1.04|\n",
            "+----+--------------------+--------+----+------+-----------------+--------+--------+--------+-----------+------------+\n",
            "\n"
          ]
        }
      ]
    },
    {
      "cell_type": "code",
      "source": [
        "avg_year_df = df.filter(col(\"Year\").isNotNull()) \\\n",
        "    .groupBy(\"Name\") \\\n",
        "    .agg(round(avg(\"Year\")).cast(\"int\").alias(\"Avg_Year\"))"
      ],
      "metadata": {
        "id": "D2_IBD53cj_c"
      },
      "execution_count": 14,
      "outputs": []
    },
    {
      "cell_type": "code",
      "source": [
        "window_spec = Window.partitionBy(\"Name\", \"Publisher\")\n",
        "publisher_counts = df.filter(col(\"Publisher\").isNotNull()) \\\n",
        "    .withColumn(\"pub_count\", count(\"*\").over(window_spec))\n",
        "\n",
        "publisher_counts = df.filter(col(\"Publisher\").isNotNull()) \\\n",
        "    .withColumn(\"pub_count\", count(\"*\").over(window_spec))"
      ],
      "metadata": {
        "id": "_aQ4SVRJcrLX"
      },
      "execution_count": 15,
      "outputs": []
    },
    {
      "cell_type": "code",
      "source": [
        "publisher_counts.show(truncate=False)"
      ],
      "metadata": {
        "colab": {
          "base_uri": "https://localhost:8080/"
        },
        "id": "T5GETCbDc9TZ",
        "outputId": "483eed1f-4591-4e08-b8fa-8a7e24c8803a"
      },
      "execution_count": 16,
      "outputs": [
        {
          "output_type": "stream",
          "name": "stdout",
          "text": [
            "+-----+-------------------------------------------+--------+----+------------+------------------+--------+--------+--------+-----------+------------+---------+\n",
            "|Rank |Name                                       |Platform|Year|Genre       |Publisher         |NA_Sales|EU_Sales|JP_Sales|Other_Sales|Global_Sales|pub_count|\n",
            "+-----+-------------------------------------------+--------+----+------------+------------------+--------+--------+--------+-----------+------------+---------+\n",
            "|4756 |'98 Koshien                                |PS      |1998|Sports      |Magical Company   |0.15    |0.1     |0.12    |0.03       |0.41        |1        |\n",
            "|8359 |.hack//G.U. Vol.1//Rebirth                 |PS2     |2006|Role-Playing|Namco Bandai Games|0.0     |0.0     |0.17    |0.0        |0.17        |1        |\n",
            "|7109 |.hack//G.U. Vol.2//Reminisce               |PS2     |2006|Role-Playing|Namco Bandai Games|0.11    |0.09    |0.0     |0.03       |0.23        |1        |\n",
            "|8604 |.hack//G.U. Vol.2//Reminisce (jp sales)    |PS2     |2006|Role-Playing|Namco Bandai Games|0.0     |0.0     |0.16    |0.0        |0.16        |1        |\n",
            "|8306 |.hack//G.U. Vol.3//Redemption              |PS2     |2007|Role-Playing|Namco Bandai Games|0.0     |0.0     |0.17    |0.0        |0.17        |1        |\n",
            "|1565 |.hack//Infection Part 1                    |PS2     |2002|Role-Playing|Atari             |0.49    |0.38    |0.26    |0.13       |1.27        |1        |\n",
            "|9076 |.hack//Link                                |PSP     |2010|Role-Playing|Namco Bandai Games|0.0     |0.0     |0.14    |0.0        |0.14        |1        |\n",
            "|3004 |.hack//Mutation Part 2                     |PS2     |2002|Role-Playing|Atari             |0.23    |0.18    |0.2     |0.06       |0.68        |1        |\n",
            "|4296 |.hack//Outbreak Part 3                     |PS2     |2002|Role-Playing|Atari             |0.14    |0.11    |0.17    |0.04       |0.46        |1        |\n",
            "|8009 |.hack//Quarantine Part 4: The Final Chapter|PS2     |2003|Role-Playing|Atari             |0.09    |0.07    |0.0     |0.02       |0.18        |1        |\n",
            "|14279|.hack: Sekai no Mukou ni + Versus          |PS3     |2012|Action      |Namco Bandai Games|0.0     |0.0     |0.03    |0.0        |0.03        |1        |\n",
            "|3770 |007 Racing                                 |PS      |2000|Racing      |Electronic Arts   |0.3     |0.2     |0.0     |0.03       |0.53        |1        |\n",
            "|1275 |007: Quantum of Solace                     |X360    |2008|Action      |Activision        |0.82    |0.52    |0.01    |0.14       |1.49        |6        |\n",
            "|1741 |007: Quantum of Solace                     |PS3     |2008|Action      |Activision        |0.43    |0.52    |0.02    |0.2        |1.16        |6        |\n",
            "|3040 |007: Quantum of Solace                     |Wii     |2008|Action      |Activision        |0.3     |0.29    |0.01    |0.07       |0.67        |6        |\n",
            "|4501 |007: Quantum of Solace                     |PS2     |2008|Action      |Activision        |0.17    |0.0     |0.0     |0.26       |0.43        |6        |\n",
            "|9320 |007: Quantum of Solace                     |DS      |2008|Action      |Activision        |0.11    |0.01    |0.0     |0.01       |0.14        |6        |\n",
            "|14550|007: Quantum of Solace                     |PC      |2008|Action      |Activision        |0.01    |0.01    |0.0     |0.0        |0.03        |6        |\n",
            "|1202 |007: The World is not Enough               |N64     |2000|Action      |Electronic Arts   |1.13    |0.38    |0.02    |0.03       |1.55        |2        |\n",
            "|2249 |007: The World is not Enough               |PS      |2000|Action      |Electronic Arts   |0.51    |0.35    |0.0     |0.06       |0.92        |2        |\n",
            "+-----+-------------------------------------------+--------+----+------------+------------------+--------+--------+--------+-----------+------------+---------+\n",
            "only showing top 20 rows\n",
            "\n"
          ]
        }
      ]
    },
    {
      "cell_type": "code",
      "source": [
        "ranked_publishers = publisher_counts \\\n",
        "    .withColumn(\"rank\", row_number().over(Window.partitionBy(\"Name\").orderBy(col(\"pub_count\").desc()))) \\\n",
        "    .filter(col(\"rank\") == 1) \\\n",
        "    .select(\"Name\", col(\"Publisher\").alias(\"Most_Common_Publisher\"))"
      ],
      "metadata": {
        "id": "xcmgMSuvdB7u"
      },
      "execution_count": 17,
      "outputs": []
    },
    {
      "cell_type": "code",
      "source": [
        "ranked_publishers.show(truncate=False)"
      ],
      "metadata": {
        "colab": {
          "base_uri": "https://localhost:8080/"
        },
        "id": "CVkkU0hAdNHT",
        "outputId": "3c1c6a8f-f5ab-4030-ac5f-3ed5a05fc57f"
      },
      "execution_count": 18,
      "outputs": [
        {
          "output_type": "stream",
          "name": "stdout",
          "text": [
            "+-------------------------------------------+---------------------+\n",
            "|Name                                       |Most_Common_Publisher|\n",
            "+-------------------------------------------+---------------------+\n",
            "|'98 Koshien                                |Magical Company      |\n",
            "|.hack//G.U. Vol.1//Rebirth                 |Namco Bandai Games   |\n",
            "|.hack//G.U. Vol.2//Reminisce               |Namco Bandai Games   |\n",
            "|.hack//G.U. Vol.2//Reminisce (jp sales)    |Namco Bandai Games   |\n",
            "|.hack//G.U. Vol.3//Redemption              |Namco Bandai Games   |\n",
            "|.hack//Infection Part 1                    |Atari                |\n",
            "|.hack//Link                                |Namco Bandai Games   |\n",
            "|.hack//Mutation Part 2                     |Atari                |\n",
            "|.hack//Outbreak Part 3                     |Atari                |\n",
            "|.hack//Quarantine Part 4: The Final Chapter|Atari                |\n",
            "|.hack: Sekai no Mukou ni + Versus          |Namco Bandai Games   |\n",
            "|007 Racing                                 |Electronic Arts      |\n",
            "|007: Quantum of Solace                     |Activision           |\n",
            "|007: The World is not Enough               |Electronic Arts      |\n",
            "|007: Tomorrow Never Dies                   |Electronic Arts      |\n",
            "|1 vs. 100                                  |DSI Games            |\n",
            "|1/2 Summer +                               |Kaga Create          |\n",
            "|10 Minute Solution                         |Activision           |\n",
            "|100 All-Time Favorites                     |Ubisoft              |\n",
            "|100 Classic Books                          |Nintendo             |\n",
            "+-------------------------------------------+---------------------+\n",
            "only showing top 20 rows\n",
            "\n"
          ]
        }
      ]
    },
    {
      "cell_type": "code",
      "source": [
        "fill_values_df = avg_year_df.join(ranked_publishers, on=\"Name\", how=\"outer\")"
      ],
      "metadata": {
        "id": "MsRy3tLvdQy4"
      },
      "execution_count": 19,
      "outputs": []
    },
    {
      "cell_type": "code",
      "source": [
        "fill_values_df.show()"
      ],
      "metadata": {
        "colab": {
          "base_uri": "https://localhost:8080/"
        },
        "id": "lXGVBNggdVrE",
        "outputId": "913e2f0b-0066-479b-8459-d8a08d8e9048"
      },
      "execution_count": 20,
      "outputs": [
        {
          "output_type": "stream",
          "name": "stdout",
          "text": [
            "+--------------------+--------+---------------------+\n",
            "|                Name|Avg_Year|Most_Common_Publisher|\n",
            "+--------------------+--------+---------------------+\n",
            "|         '98 Koshien|    1998|      Magical Company|\n",
            "|.hack//G.U. Vol.1...|    2006|   Namco Bandai Games|\n",
            "|.hack//G.U. Vol.2...|    2006|   Namco Bandai Games|\n",
            "|.hack//G.U. Vol.2...|    2006|   Namco Bandai Games|\n",
            "|.hack//G.U. Vol.3...|    2007|   Namco Bandai Games|\n",
            "|.hack//Infection ...|    2002|                Atari|\n",
            "|         .hack//Link|    2010|   Namco Bandai Games|\n",
            "|.hack//Mutation P...|    2002|                Atari|\n",
            "|.hack//Outbreak P...|    2002|                Atari|\n",
            "|.hack//Quarantine...|    2003|                Atari|\n",
            "|.hack: Sekai no M...|    2012|   Namco Bandai Games|\n",
            "|          007 Racing|    2000|      Electronic Arts|\n",
            "|007: Quantum of S...|    2008|           Activision|\n",
            "|007: The World is...|    2000|      Electronic Arts|\n",
            "|007: Tomorrow Nev...|    1999|      Electronic Arts|\n",
            "|           1 vs. 100|    2008|            DSI Games|\n",
            "|        1/2 Summer +|    2013|          Kaga Create|\n",
            "|  10 Minute Solution|    2010|           Activision|\n",
            "|100 All-Time Favo...|    2009|              Ubisoft|\n",
            "|   100 Classic Books|    2008|             Nintendo|\n",
            "+--------------------+--------+---------------------+\n",
            "only showing top 20 rows\n",
            "\n"
          ]
        }
      ]
    },
    {
      "cell_type": "code",
      "source": [
        "df_clean = df.join(fill_values_df, on=\"Name\", how=\"left\")"
      ],
      "metadata": {
        "id": "9J2auqwPdW7M"
      },
      "execution_count": 21,
      "outputs": []
    },
    {
      "cell_type": "code",
      "source": [
        "df_clean = df_clean.withColumn(\n",
        "    \"Year\", coalesce(col(\"Year\"), col(\"Avg_Year\"))\n",
        ").withColumn(\n",
        "    \"Publisher\", coalesce(col(\"Publisher\"), col(\"Most_Common_Publisher\"))\n",
        ").drop(\"Avg_Year\", \"Most_Common_Publisher\")"
      ],
      "metadata": {
        "id": "0KxX3D2YdjoI"
      },
      "execution_count": 22,
      "outputs": []
    },
    {
      "cell_type": "code",
      "source": [
        "missing_values = df_clean.select([sum(col(c).isNull().cast('int')).alias(c) for c in df_clean.columns])\n",
        "print('Number of missing values:\\n')\n",
        "missing_values.show()\n",
        "\n",
        "\n",
        "total_rows = df_clean.count()\n",
        "missing_percent = missing_values.select([\n",
        "    round((col(c) / total_rows * 100), 2).alias(c)\n",
        "    for c in missing_values.columns\n",
        "])\n",
        "print('% of missing values:\\n')\n",
        "missing_percent.show()"
      ],
      "metadata": {
        "colab": {
          "base_uri": "https://localhost:8080/"
        },
        "id": "WVTZx2g0eYWB",
        "outputId": "3332d8ef-9ba3-4b99-88ea-c51c34d69f3f"
      },
      "execution_count": 23,
      "outputs": [
        {
          "output_type": "stream",
          "name": "stdout",
          "text": [
            "Number of missing values:\n",
            "\n",
            "+----+----+--------+----+-----+---------+--------+--------+--------+-----------+------------+\n",
            "|Name|Rank|Platform|Year|Genre|Publisher|NA_Sales|EU_Sales|JP_Sales|Other_Sales|Global_Sales|\n",
            "+----+----+--------+----+-----+---------+--------+--------+--------+-----------+------------+\n",
            "|   0|   0|       0| 147|    0|       51|       0|       0|       0|          0|           0|\n",
            "+----+----+--------+----+-----+---------+--------+--------+--------+-----------+------------+\n",
            "\n",
            "% of missing values:\n",
            "\n",
            "+----+----+--------+----+-----+---------+--------+--------+--------+-----------+------------+\n",
            "|Name|Rank|Platform|Year|Genre|Publisher|NA_Sales|EU_Sales|JP_Sales|Other_Sales|Global_Sales|\n",
            "+----+----+--------+----+-----+---------+--------+--------+--------+-----------+------------+\n",
            "| 0.0| 0.0|     0.0|0.89|  0.0|     0.31|     0.0|     0.0|     0.0|        0.0|         0.0|\n",
            "+----+----+--------+----+-----+---------+--------+--------+--------+-----------+------------+\n",
            "\n"
          ]
        }
      ]
    },
    {
      "cell_type": "code",
      "source": [
        "df_clean = df_clean.na.drop()"
      ],
      "metadata": {
        "id": "6bU5dQ-DfHpf"
      },
      "execution_count": 24,
      "outputs": []
    },
    {
      "cell_type": "code",
      "source": [
        "df_clean.filter(\n",
        "    col(\"Year\").isNull() | col(\"Publisher\").isNull()\n",
        ").count()"
      ],
      "metadata": {
        "colab": {
          "base_uri": "https://localhost:8080/"
        },
        "id": "334mx7abfN7U",
        "outputId": "44613108-b208-44c4-9856-32052d93c84c"
      },
      "execution_count": 25,
      "outputs": [
        {
          "output_type": "execute_result",
          "data": {
            "text/plain": [
              "0"
            ]
          },
          "metadata": {},
          "execution_count": 25
        }
      ]
    },
    {
      "cell_type": "markdown",
      "source": [
        "## Checking for inconsistencies in the data"
      ],
      "metadata": {
        "id": "8bFmg4H3fWlZ"
      }
    },
    {
      "cell_type": "code",
      "source": [
        "if \"Year\" in df.columns:\n",
        "    invalid_years = df.filter(col(\"Year\") > 2025)\n",
        "    print(\"Future-dated entries (Year > 2025):\", invalid_years.count())\n",
        "else:\n",
        "    print(\"The 'Year' column does not exist in the dataset.\")\n",
        "\n",
        "numeric_columns = [f.name for f in df.schema.fields if isinstance(f.dataType, NumericType)]\n",
        "\n",
        "negative_value_counts = {}\n",
        "\n",
        "# Check for negative values in numeric columns\n",
        "for col_name in numeric_columns:\n",
        "    negative_count = df.filter(col(col_name) < 0).count()\n",
        "    if negative_count > 0:\n",
        "        negative_value_counts[col_name] = negative_count\n",
        "\n",
        "if negative_value_counts:\n",
        "    print(\"Negative values found in the following numeric columns:\")\n",
        "    for col_name, count in negative_value_counts.items():\n",
        "        print(f\" - {col_name}: {count}\")\n",
        "else:\n",
        "    print(\"No negative values found in numeric columns\")"
      ],
      "metadata": {
        "colab": {
          "base_uri": "https://localhost:8080/"
        },
        "id": "n6VvxLa_fTT_",
        "outputId": "839d58a0-a70e-4427-b67d-0e3886462073"
      },
      "execution_count": 26,
      "outputs": [
        {
          "output_type": "stream",
          "name": "stdout",
          "text": [
            "Future-dated entries (Year > 2025): 0\n",
            "No negative values found in numeric columns\n"
          ]
        }
      ]
    },
    {
      "cell_type": "code",
      "source": [
        "df_clean = df_clean.filter(~col(\"Year\").isin([2020, 2017]))"
      ],
      "metadata": {
        "id": "EEM3z3r6f-1y"
      },
      "execution_count": 27,
      "outputs": []
    },
    {
      "cell_type": "code",
      "source": [
        "df_clean.groupBy('Year').count().sort('count').show()"
      ],
      "metadata": {
        "colab": {
          "base_uri": "https://localhost:8080/"
        },
        "id": "vqA79VLlgFGs",
        "outputId": "731089f7-f6c6-4112-827d-003a90250585"
      },
      "execution_count": 28,
      "outputs": [
        {
          "output_type": "stream",
          "name": "stdout",
          "text": [
            "+----+-----+\n",
            "|Year|count|\n",
            "+----+-----+\n",
            "|1980|    9|\n",
            "|1985|   14|\n",
            "|1984|   14|\n",
            "|1988|   15|\n",
            "|1990|   16|\n",
            "|1987|   16|\n",
            "|1989|   17|\n",
            "|1983|   17|\n",
            "|1986|   21|\n",
            "|1982|   36|\n",
            "|1991|   41|\n",
            "|1992|   43|\n",
            "|1981|   46|\n",
            "|1993|   60|\n",
            "|1994|  121|\n",
            "|1995|  219|\n",
            "|1996|  263|\n",
            "|1997|  289|\n",
            "|1999|  339|\n",
            "|2016|  342|\n",
            "+----+-----+\n",
            "only showing top 20 rows\n",
            "\n"
          ]
        }
      ]
    },
    {
      "cell_type": "markdown",
      "source": [
        "## Identification of outliers using IQR"
      ],
      "metadata": {
        "id": "HqrdQb_tgUmI"
      }
    },
    {
      "cell_type": "code",
      "source": [
        "import numpy as np\n",
        "def check_outliers(data, quantile_resolution=0.01):\n",
        "\n",
        "  outlier_counts = {}\n",
        "  numeric_columns = [f.name for f in data.schema.fields if isinstance(f.dataType, NumericType)]\n",
        "\n",
        "  for col_name in numeric_columns:\n",
        "      try:\n",
        "          quantiles = data.approxQuantile(col_name, [0.25, 0.75], quantile_resolution)\n",
        "          if len(quantiles) < 2:\n",
        "              continue\n",
        "          Q1, Q3 = quantiles\n",
        "          IQR = Q3 - Q1\n",
        "          lower_bound = Q1 - 1.5 * IQR\n",
        "          upper_bound = Q3 + 1.5 * IQR\n",
        "\n",
        "          outliers = data.filter((col(col_name) < lower_bound) | (col(col_name) > upper_bound))\n",
        "          count_outliers = outliers.count()\n",
        "\n",
        "          outlier_percent = np.round(count_outliers / total_rows * 100, 2)\n",
        "          #print(outlier_percent)\n",
        "\n",
        "          outlier_counts[col_name] = count_outliers, outlier_percent\n",
        "      except Exception as e:\n",
        "          print(f\"Error for column '{col_name}': {e}\")\n",
        "\n",
        "  for col_name, count in outlier_counts.items():\n",
        "      print(f\"Number of outliers '{col_name}': {count[0]} ({count[1]} %)\")"
      ],
      "metadata": {
        "id": "oQLpxU3ggWBF"
      },
      "execution_count": 29,
      "outputs": []
    },
    {
      "cell_type": "code",
      "source": [
        "check_outliers(df_clean)"
      ],
      "metadata": {
        "colab": {
          "base_uri": "https://localhost:8080/"
        },
        "id": "hO8SzB-EggTJ",
        "outputId": "ec873558-057e-4c71-c47f-4524d34cff0a"
      },
      "execution_count": 30,
      "outputs": [
        {
          "output_type": "stream",
          "name": "stdout",
          "text": [
            "Number of outliers 'Rank': 0 (0.0 %)\n",
            "Number of outliers 'Year': 305 (1.84 %)\n",
            "Number of outliers 'NA_Sales': 1769 (10.66 %)\n",
            "Number of outliers 'EU_Sales': 2071 (12.48 %)\n",
            "Number of outliers 'JP_Sales': 2926 (17.63 %)\n",
            "Number of outliers 'Other_Sales': 2256 (13.59 %)\n",
            "Number of outliers 'Global_Sales': 1883 (11.34 %)\n"
          ]
        }
      ]
    },
    {
      "cell_type": "code",
      "source": [
        "num_cols = [f.name for f in df_clean.schema.fields if isinstance(f.dataType, NumericType)]"
      ],
      "metadata": {
        "id": "wOoNQ3Nqgrvk"
      },
      "execution_count": 31,
      "outputs": []
    },
    {
      "cell_type": "code",
      "source": [
        "df_clean.select(\n",
        "    [skewness(c).alias(f'skew_{c}') for c in num_cols] +\n",
        "    [kurtosis(c).alias(f'kurt_{c}') for c in num_cols]\n",
        ").show()"
      ],
      "metadata": {
        "colab": {
          "base_uri": "https://localhost:8080/"
        },
        "id": "SaxMuaDghxwS",
        "outputId": "5c04a861-4ea7-4c9f-bdda-e8898baa28bc"
      },
      "execution_count": 32,
      "outputs": [
        {
          "output_type": "stream",
          "name": "stdout",
          "text": [
            "+--------------------+-------------------+------------------+------------------+------------------+------------------+------------------+-------------------+------------------+-----------------+----------------+-----------------+------------------+-----------------+\n",
            "|           skew_Rank|          skew_Year|     skew_NA_Sales|     skew_EU_Sales|     skew_JP_Sales|  skew_Other_Sales| skew_Global_Sales|          kurt_Rank|         kurt_Year|    kurt_NA_Sales|   kurt_EU_Sales|    kurt_JP_Sales|  kurt_Other_Sales|kurt_Global_Sales|\n",
            "+--------------------+-------------------+------------------+------------------+------------------+------------------+------------------+-------------------+------------------+-----------------+----------------+-----------------+------------------+-----------------+\n",
            "|0.001847214914020...|-1.0059727103739404|18.738133243760107|18.788464506292332|11.155980827141203|24.127973038428316|17.326939409408688|-1.2006314255968686|1.8580677857938142|643.8892591522499|748.577175806478|192.3447456683471|1015.5079893404991|598.2807202619995|\n",
            "+--------------------+-------------------+------------------+------------------+------------------+------------------+------------------+-------------------+------------------+-----------------+----------------+-----------------+------------------+-----------------+\n",
            "\n"
          ]
        }
      ]
    },
    {
      "cell_type": "code",
      "source": [
        "df_clean.describe(num_cols[1:]).show()"
      ],
      "metadata": {
        "colab": {
          "base_uri": "https://localhost:8080/"
        },
        "id": "Kn1uPWsfhzqC",
        "outputId": "d2915821-a98e-4ce4-ba96-dcd5a8e91a23"
      },
      "execution_count": 33,
      "outputs": [
        {
          "output_type": "stream",
          "name": "stdout",
          "text": [
            "+-------+------------------+------------------+-------------------+-------------------+-------------------+------------------+\n",
            "|summary|              Year|          NA_Sales|           EU_Sales|           JP_Sales|        Other_Sales|      Global_Sales|\n",
            "+-------+------------------+------------------+-------------------+-------------------+-------------------+------------------+\n",
            "|  count|             16412|             16412|              16412|              16412|              16412|             16412|\n",
            "|   mean|2006.4079332195954|0.2656300268096706|0.14764501584209988|0.07836582988056927|0.04840604435777989|0.5403180599561945|\n",
            "| stddev| 5.817685332012175|0.8205505754914889| 0.5079653797237415| 0.3108534125628473| 0.1895532403780277|1.5628664150657214|\n",
            "|    min|              1980|               0.0|                0.0|                0.0|                0.0|              0.01|\n",
            "|    max|              2016|             41.49|              29.02|              10.22|              10.57|             82.74|\n",
            "+-------+------------------+------------------+-------------------+-------------------+-------------------+------------------+\n",
            "\n"
          ]
        }
      ]
    },
    {
      "cell_type": "markdown",
      "source": [
        "- NA_Sales - extreme rightward distribution (mean much < max)\n",
        "- EU_Sales - similarly, strongly skewed distribution\n",
        "- JP_Sales - higher concentration of low values\n",
        "- Other_Sales - small values, dominance of low values\n",
        "- Global_Sales - global sales also show strong skewness\n",
        "\n",
        "Conclusions:\n",
        "- All sales data are strongly right-skewed - most games sell poorly, and only a few reach very high numbers.\n",
        "\n",
        "- This is confirmed by the logarithms of sales and their distribution - low averages, low maxes\n",
        "\n",
        "- low sales of most games - confirms the Pareto principle: 20% of games generate 80% of sales"
      ],
      "metadata": {
        "id": "N4rOpuREh9U6"
      }
    },
    {
      "cell_type": "markdown",
      "source": [
        "## Full Pipeline"
      ],
      "metadata": {
        "id": "klHWGDxkis3l"
      }
    },
    {
      "cell_type": "code",
      "source": [
        "from pyspark.ml import Transformer\n",
        "from pyspark.sql.functions import (\n",
        "    col, when, log1p, round as spark_round, desc,\n",
        "    count, avg, row_number, coalesce\n",
        ")\n",
        "from pyspark.sql.types import NumericType\n",
        "from pyspark.sql import DataFrame, Window\n",
        "\n",
        "class Preprocessing(Transformer):\n",
        "    def _transform(self, df: DataFrame) -> DataFrame:\n",
        "\n",
        "        df = df.na.replace(\"N/A\", None)\n",
        "\n",
        "        df = df.dropDuplicates()\n",
        "\n",
        "        if \"Year\" in df.columns:\n",
        "            df = df.withColumn(\"Year\", col(\"Year\").cast(\"integer\"))\n",
        "\n",
        "        avg_year_df = df.filter(col(\"Year\").isNotNull()) \\\n",
        "            .groupBy(\"Name\") \\\n",
        "            .agg(spark_round(avg(\"Year\")).cast(\"int\").alias(\"Avg_Year\"))\n",
        "\n",
        "        pub_window = Window.partitionBy(\"Name\", \"Publisher\")\n",
        "        pub_counts = df.filter(col(\"Publisher\").isNotNull()) \\\n",
        "            .withColumn(\"pub_count\", count(\"*\").over(pub_window))\n",
        "\n",
        "        ranked_publishers = pub_counts \\\n",
        "            .withColumn(\"rank\", row_number().over(Window.partitionBy(\"Name\").orderBy(desc(\"pub_count\")))) \\\n",
        "            .filter(col(\"rank\") == 1) \\\n",
        "            .select(\"Name\", col(\"Publisher\").alias(\"Most_Common_Publisher\"))\n",
        "\n",
        "        fill_df = avg_year_df.join(ranked_publishers, on=\"Name\", how=\"outer\")\n",
        "        df = df.join(fill_df, on=\"Name\", how=\"left\")\n",
        "\n",
        "        df = df.withColumn(\"Year\", coalesce(col(\"Year\"), col(\"Avg_Year\"))) \\\n",
        "               .withColumn(\"Publisher\", coalesce(col(\"Publisher\"), col(\"Most_Common_Publisher\"))) \\\n",
        "               .drop(\"Avg_Year\", \"Most_Common_Publisher\")\n",
        "\n",
        "        df = df.filter(~col(\"Year\").isin([2017, 2020]))\n",
        "\n",
        "        df = df.na.drop()\n",
        "\n",
        "        sales_columns = ['NA_Sales', 'EU_Sales', 'JP_Sales', 'Other_Sales', 'Global_Sales']\n",
        "        for col_name in sales_columns:\n",
        "            if col_name in df.columns:\n",
        "                df = df.withColumn(f'{col_name}_log', log1p(col(col_name)))\n",
        "\n",
        "\n",
        "        df = df.withColumn(\"Is_Japan_Hit\", when(col(\"JP_Sales\") > 1.0, 1).otherwise(0))\n",
        "\n",
        "        return df"
      ],
      "metadata": {
        "id": "j16DxsdPh-Dv"
      },
      "execution_count": 34,
      "outputs": []
    },
    {
      "cell_type": "code",
      "source": [
        "from pyspark.ml import Pipeline\n",
        "\n",
        "preprocessing = Preprocessing()\n",
        "\n",
        "pipeline = Pipeline(stages=[preprocessing])\n",
        "\n",
        "pipeline_model = pipeline.fit(df)\n",
        "prepared_df = pipeline_model.transform(df)\n",
        "\n",
        "prepared_df.show(5, truncate=False)"
      ],
      "metadata": {
        "colab": {
          "base_uri": "https://localhost:8080/"
        },
        "id": "CTqSL6Y3iqLB",
        "outputId": "b7ccf904-8434-437c-c559-89c62eaebb0e"
      },
      "execution_count": 35,
      "outputs": [
        {
          "output_type": "stream",
          "name": "stdout",
          "text": [
            "+--------------------------------------+----+--------+----+------------+---------------------------+--------+--------+--------+-----------+------------+-------------------+------------------+--------------------+-------------------+------------------+------------+\n",
            "|Name                                  |Rank|Platform|Year|Genre       |Publisher                  |NA_Sales|EU_Sales|JP_Sales|Other_Sales|Global_Sales|NA_Sales_log       |EU_Sales_log      |JP_Sales_log        |Other_Sales_log    |Global_Sales_log  |Is_Japan_Hit|\n",
            "+--------------------------------------+----+--------+----+------------+---------------------------+--------+--------+--------+-----------+------------+-------------------+------------------+--------------------+-------------------+------------------+------------+\n",
            "|FIFA Soccer 11                        |200 |PS3     |2010|Sports      |Electronic Arts            |0.6     |3.29    |0.06    |1.13       |5.08        |0.4700036292457356 |1.4562867329399256|0.058268908123975775|0.7561219797213337 |1.8050046959780757|0           |\n",
            "|Uncharted: The Nathan Drake Collection|244 |PS4     |2015|Action      |Sony Computer Entertainment|1.96    |1.69    |0.08    |0.74       |4.47        |1.085189268335969  |0.9895411936137477|0.07696104113612832 |0.5538851132264376 |1.6992786164338898|0           |\n",
            "|Tony Hawk's Underground               |307 |PS2     |2003|Sports      |Activision                 |2.29    |1.17    |0.01    |0.42       |3.9         |1.1908875647772805 |0.7747271675523681|0.009950330853168083|0.35065687161316933|1.589235205116581 |0           |\n",
            "|The Simpsons: Road Rage               |355 |PS2     |2001|Racing      |Electronic Arts            |2.02    |1.17    |0.0     |0.42       |3.61        |1.1052568313867783 |0.7747271675523681|0.0                 |0.35065687161316933|1.5282278570085572|0           |\n",
            "|Dragon Warrior II                     |603 |NES     |1987|Role-Playing|Enix Corporation           |0.15    |0.0     |2.41    |0.0        |2.56        |0.13976194237515868|0.0               |1.2267122912954256  |0.0                |1.269760544863939 |1           |\n",
            "+--------------------------------------+----+--------+----+------------+---------------------------+--------+--------+--------+-----------+------------+-------------------+------------------+--------------------+-------------------+------------------+------------+\n",
            "only showing top 5 rows\n",
            "\n"
          ]
        }
      ]
    },
    {
      "cell_type": "code",
      "source": [
        "prepared_df.write.csv(\"cleaned_data.csv\", header=True, mode=\"overwrite\")"
      ],
      "metadata": {
        "id": "BmNgPjyRjB6-"
      },
      "execution_count": 38,
      "outputs": []
    }
  ]
}